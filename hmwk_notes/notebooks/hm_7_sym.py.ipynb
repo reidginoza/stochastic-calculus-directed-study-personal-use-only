{
 "cells": [
  {
   "cell_type": "code",
   "execution_count": 33,
   "metadata": {},
   "outputs": [
    {
     "name": "stdout",
     "output_type": "stream",
     "text": [
      "dp/dt\n"
     ]
    },
    {
     "data": {
      "image/png": "[encoded data removed]",
      "text/latex": [
       "$\\displaystyle - \\frac{0.25 \\sqrt{2} e^{- 0.5 t} e^{- \\frac{x^{2}}{2 t}} \\cosh{\\left(x \\right)}}{\\sqrt{\\pi} \\sqrt{t}} - \\frac{\\sqrt{2} e^{- 0.5 t} e^{- \\frac{x^{2}}{2 t}} \\cosh{\\left(x \\right)}}{4 \\sqrt{\\pi} t^{\\frac{3}{2}}} + \\frac{\\sqrt{2} x^{2} e^{- 0.5 t} e^{- \\frac{x^{2}}{2 t}} \\cosh{\\left(x \\right)}}{4 \\sqrt{\\pi} t^{\\frac{5}{2}}}$"
      ],
      "text/plain": [
       "                     2                          2                             \n",
       "                   -x                         -x                            -x\n",
       "                   ────                       ────                          ──\n",
       "           -0.5⋅t  2⋅t                -0.5⋅t  2⋅t                2  -0.5⋅t  2⋅\n",
       "  0.25⋅√2⋅ℯ      ⋅ℯ    ⋅cosh(x)   √2⋅ℯ      ⋅ℯ    ⋅cosh(x)   √2⋅x ⋅ℯ      ⋅ℯ  \n",
       "- ───────────────────────────── - ──────────────────────── + ─────────────────\n",
       "              √π⋅√t                            3/2                          5/\n",
       "                                         4⋅√π⋅t                       4⋅√π⋅t  \n",
       "\n",
       "2         \n",
       "          \n",
       "──        \n",
       "t         \n",
       "  ⋅cosh(x)\n",
       "──────────\n",
       "2         \n",
       "          "
      ]
     },
     "metadata": {},
     "output_type": "display_data"
    },
    {
     "name": "stdout",
     "output_type": "stream",
     "text": [
      "\n",
      "simplified:\n"
     ]
    },
    {
     "data": {
      "image/png": "[encoded data removed]",
      "text/latex": [
       "$\\displaystyle - \\frac{0.25 \\sqrt{2} \\left(t^{2} + t - x^{2}\\right) e^{- 0.5 t - \\frac{x^{2}}{2 t}} \\cosh{\\left(x \\right)}}{\\sqrt{\\pi} t^{\\frac{5}{2}}}$"
      ],
      "text/plain": [
       "                                   2         \n",
       "                                  x          \n",
       "                        -0.5⋅t - ───         \n",
       "         ⎛ 2        2⎞           2⋅t         \n",
       "-0.25⋅√2⋅⎝t  + t - x ⎠⋅ℯ            ⋅cosh(x) \n",
       "─────────────────────────────────────────────\n",
       "                       5/2                   \n",
       "                   √π⋅t                      "
      ]
     },
     "metadata": {},
     "output_type": "display_data"
    }
   ],
   "source": [
    "from IPython.display import display\n",
    "from matplotlib import pyplot as plt\n",
    "from mpl_toolkits.mplot3d import Axes3D\n",
    "import numpy as np\n",
    "import sympy as sp\n",
    "\n",
    "sp.init_printing(use_latex=True)\n",
    "\n",
    "x, t = sp.symbols('x t')\n",
    "\n",
    "p = 1 / sp.sqrt(2 * sp.pi * t) * sp.cosh(x) * sp.exp(-1/2 * t) * sp.exp(- 1 / (2 * t) * x**2)\n",
    "print('dp/dt')\n",
    "lhs = sp.diff(p, t)\n",
    "display(lhs)\n",
    "print('\\nsimplified:')\n",
    "display(sp.simplify(lhs))\n"
   ]
  },
  {
   "cell_type": "code",
   "execution_count": 34,
   "metadata": {},
   "outputs": [
    {
     "name": "stdout",
     "output_type": "stream",
     "text": [
      "Is my LHS correct?\n"
     ]
    },
    {
     "data": {
      "image/png": "[encoded data removed]",
      "text/latex": [
       "$\\displaystyle \\frac{0.25 \\sqrt{2} \\left(\\pi t^{2} - \\pi t + t - \\pi x^{2}\\right) e^{- 0.5 t - \\frac{x^{2}}{2 t}} \\cosh{\\left(x \\right)}}{\\pi^{\\frac{3}{2}} t^{\\frac{5}{2}}}$"
      ],
      "text/plain": [
       "                                            2        \n",
       "                                           x         \n",
       "                                 -0.5⋅t - ───        \n",
       "        ⎛   2                2⎞           2⋅t        \n",
       "0.25⋅√2⋅⎝π⋅t  - π⋅t + t - π⋅x ⎠⋅ℯ            ⋅cosh(x)\n",
       "─────────────────────────────────────────────────────\n",
       "                       3/2  5/2                      \n",
       "                      π   ⋅t                         "
      ]
     },
     "metadata": {},
     "output_type": "display_data"
    }
   ],
   "source": [
    "my_lhs = (\n",
    "    (1 / (sp.sqrt(2 * sp.pi * t)**3))\n",
    "    * (2 * sp.pi / t * x**2 - 2 * sp.pi * t - 1)\n",
    "    * (sp.exp(-t / 2) * sp.exp(- x**2 / (2*t)))\n",
    "    * sp.cosh(x)\n",
    ")\n",
    "\n",
    "print('Is my LHS correct?')\n",
    "display(sp.simplify(sp.simplify(lhs) - sp.simplify(my_lhs)))\n"
   ]
  },
  {
   "cell_type": "markdown",
   "metadata": {},
   "source": [
    "# My LHS attempt reorganized"
   ]
  },
  {
   "cell_type": "code",
   "execution_count": 35,
   "metadata": {},
   "outputs": [
    {
     "data": {
      "image/png": "[encoded data removed]",
      "text/latex": [
       "$\\displaystyle e^{- 0.5 t} e^{- \\frac{0.5 x^{2}}{t}}$"
      ],
      "text/plain": [
       "               2 \n",
       "         -0.5⋅x  \n",
       "         ────────\n",
       " -0.5⋅t     t    \n",
       "ℯ      ⋅ℯ        "
      ]
     },
     "metadata": {},
     "output_type": "display_data"
    }
   ],
   "source": [
    "A = sp.exp(-1/2 * t) * sp.exp(-1/2 * x**2 * t**(-1))\n",
    "display(A)"
   ]
  },
  {
   "cell_type": "code",
   "execution_count": 36,
   "metadata": {},
   "outputs": [
    {
     "data": {
      "image/png": "[encoded data removed]",
      "text/latex": [
       "$\\displaystyle - 0.5 e^{- 0.5 t} e^{- \\frac{0.5 x^{2}}{t}} + \\frac{0.5 x^{2} e^{- 0.5 t} e^{- \\frac{0.5 x^{2}}{t}}}{t^{2}}$"
      ],
      "text/plain": [
       "                                                2 \n",
       "                     2                    -0.5⋅x  \n",
       "               -0.5⋅x                     ────────\n",
       "               ────────        2  -0.5⋅t     t    \n",
       "       -0.5⋅t     t       0.5⋅x ⋅ℯ      ⋅ℯ        \n",
       "- 0.5⋅ℯ      ⋅ℯ         + ────────────────────────\n",
       "                                      2           \n",
       "                                     t            "
      ]
     },
     "metadata": {},
     "output_type": "display_data"
    }
   ],
   "source": [
    "dA = sp.diff(A, t)\n",
    "display(dA)"
   ]
  },
  {
   "cell_type": "code",
   "execution_count": 37,
   "metadata": {},
   "outputs": [
    {
     "data": {
      "image/png": "[encoded data removed]",
      "text/latex": [
       "$\\displaystyle \\frac{\\sqrt{2} e^{- 0.5 t} e^{- \\frac{0.5 x^{2}}{t}}}{2 \\sqrt{\\pi} \\sqrt{t}}$"
      ],
      "text/plain": [
       "                  2 \n",
       "            -0.5⋅x  \n",
       "            ────────\n",
       "    -0.5⋅t     t    \n",
       "√2⋅ℯ      ⋅ℯ        \n",
       "────────────────────\n",
       "      2⋅√π⋅√t       "
      ]
     },
     "metadata": {},
     "output_type": "display_data"
    }
   ],
   "source": [
    "f = A / sp.sqrt(2 * sp.pi * t)\n",
    "display(f)"
   ]
  },
  {
   "cell_type": "code",
   "execution_count": 38,
   "metadata": {},
   "outputs": [
    {
     "data": {
      "image/png": "[encoded data removed]",
      "text/latex": [
       "$\\displaystyle - \\frac{0.25 \\sqrt{2} e^{- 0.5 t} e^{- \\frac{0.5 x^{2}}{t}}}{\\sqrt{\\pi} \\sqrt{t}} - \\frac{\\sqrt{2} e^{- 0.5 t} e^{- \\frac{0.5 x^{2}}{t}}}{4 \\sqrt{\\pi} t^{\\frac{3}{2}}} + \\frac{0.25 \\sqrt{2} x^{2} e^{- 0.5 t} e^{- \\frac{0.5 x^{2}}{t}}}{\\sqrt{\\pi} t^{\\frac{5}{2}}}$"
      ],
      "text/plain": [
       "                         2                      2                             \n",
       "                   -0.5⋅x                 -0.5⋅x                         -0.5⋅\n",
       "                   ────────               ────────                       ─────\n",
       "           -0.5⋅t     t           -0.5⋅t     t                2  -0.5⋅t     t \n",
       "  0.25⋅√2⋅ℯ      ⋅ℯ           √2⋅ℯ      ⋅ℯ           0.25⋅√2⋅x ⋅ℯ      ⋅ℯ     \n",
       "- ───────────────────────── - ──────────────────── + ─────────────────────────\n",
       "            √π⋅√t                        3/2                       5/2        \n",
       "                                   4⋅√π⋅t                      √π⋅t           \n",
       "\n",
       " 2 \n",
       "x  \n",
       "───\n",
       "   \n",
       "   \n",
       "───\n",
       "   \n",
       "   "
      ]
     },
     "metadata": {},
     "output_type": "display_data"
    }
   ],
   "source": [
    "display(sp.diff(f, t))"
   ]
  },
  {
   "cell_type": "code",
   "execution_count": 39,
   "metadata": {},
   "outputs": [
    {
     "name": "stdout",
     "output_type": "stream",
     "text": [
      "inside terms\n"
     ]
    },
    {
     "data": {
      "image/png": "[encoded data removed]",
      "text/latex": [
       "$\\displaystyle - \\frac{0.25 \\sqrt{2}}{\\sqrt{\\pi} \\sqrt{t}} - \\frac{\\sqrt{2}}{4 \\sqrt{\\pi} t^{\\frac{3}{2}}} + \\frac{0.25 \\sqrt{2} x^{2}}{\\sqrt{\\pi} t^{\\frac{5}{2}}}$"
      ],
      "text/plain": [
       "                                 2\n",
       "  0.25⋅√2       √2      0.25⋅√2⋅x \n",
       "- ─────── - ───────── + ──────────\n",
       "   √π⋅√t          3/2        5/2  \n",
       "            4⋅√π⋅t       √π⋅t     "
      ]
     },
     "metadata": {},
     "output_type": "display_data"
    }
   ],
   "source": [
    "print('inside terms')\n",
    "inside = sp.expand(sp.diff(f, t) / (sp.exp(-t/2) * sp.exp(- x**2 / (2*t)))) \n",
    "display(inside)"
   ]
  },
  {
   "cell_type": "code",
   "execution_count": 40,
   "metadata": {},
   "outputs": [
    {
     "data": {
      "image/png": "[encoded data removed]",
      "text/latex": [
       "$\\displaystyle - \\frac{\\sqrt{2}}{4 \\sqrt{\\pi} \\sqrt{t}} - \\frac{\\sqrt{2}}{4 \\sqrt{\\pi} t^{\\frac{3}{2}}} + \\frac{\\sqrt{2} x^{2}}{4 \\sqrt{\\pi} t^{\\frac{5}{2}}}$"
      ],
      "text/plain": [
       "                              2  \n",
       "     √2         √2        √2⋅x   \n",
       "- ─────── - ───────── + ─────────\n",
       "  4⋅√π⋅√t         3/2         5/2\n",
       "            4⋅√π⋅t      4⋅√π⋅t   "
      ]
     },
     "metadata": {},
     "output_type": "display_data"
    },
    {
     "name": "stdout",
     "output_type": "stream",
     "text": [
      "if correct, next line should be 0\n"
     ]
    },
    {
     "data": {
      "image/png": "[encoded data removed]",
      "text/latex": [
       "$\\displaystyle 0$"
      ],
      "text/plain": [
       "0"
      ]
     },
     "metadata": {},
     "output_type": "display_data"
    }
   ],
   "source": [
    "my_inside = (\n",
    "    - 1 / (2 * sp.sqrt(2 * sp.pi * t))\n",
    "    - 1 / (2 * t * sp.sqrt(2 * sp.pi * t))\n",
    "    + x**2 / (2 * t**2 * sp.sqrt(2 * sp.pi * t))\n",
    ")\n",
    "display(my_inside)\n",
    "print('if correct, next line should be 0')\n",
    "display(my_inside - inside)"
   ]
  },
  {
   "cell_type": "markdown",
   "metadata": {},
   "source": [
    "# Derivatives of p"
   ]
  },
  {
   "cell_type": "code",
   "execution_count": 41,
   "metadata": {},
   "outputs": [
    {
     "data": {
      "image/png": "[encoded data removed]",
      "text/latex": [
       "$\\displaystyle \\frac{\\sqrt{2} e^{- 0.5 t} e^{- \\frac{x^{2}}{2 t}} \\sinh{\\left(x \\right)}}{2 \\sqrt{\\pi} \\sqrt{t}} - \\frac{\\sqrt{2} x e^{- 0.5 t} e^{- \\frac{x^{2}}{2 t}} \\cosh{\\left(x \\right)}}{2 \\sqrt{\\pi} t^{\\frac{3}{2}}}$"
      ],
      "text/plain": [
       "              2                            2         \n",
       "            -x                           -x          \n",
       "            ────                         ────        \n",
       "    -0.5⋅t  2⋅t                  -0.5⋅t  2⋅t         \n",
       "√2⋅ℯ      ⋅ℯ    ⋅sinh(x)   √2⋅x⋅ℯ      ⋅ℯ    ⋅cosh(x)\n",
       "──────────────────────── - ──────────────────────────\n",
       "        2⋅√π⋅√t                          3/2         \n",
       "                                   2⋅√π⋅t            "
      ]
     },
     "metadata": {},
     "output_type": "display_data"
    }
   ],
   "source": [
    "dp_dx = sp.diff(p, x)\n",
    "display(dp_dx)"
   ]
  },
  {
   "cell_type": "code",
   "execution_count": 44,
   "metadata": {},
   "outputs": [
    {
     "data": {
      "image/png": "[encoded data removed]",
      "text/latex": [
       "$\\displaystyle - \\frac{x e^{- \\frac{x^{2}}{2 t}}}{t}$"
      ],
      "text/plain": [
       "      2  \n",
       "    -x   \n",
       "    ──── \n",
       "    2⋅t  \n",
       "-x⋅ℯ     \n",
       "─────────\n",
       "    t    "
      ]
     },
     "metadata": {},
     "output_type": "display_data"
    }
   ],
   "source": [
    "display(sp.diff(sp.exp(-1/(2*t) * x**2), x))"
   ]
  },
  {
   "cell_type": "code",
   "execution_count": 45,
   "metadata": {},
   "outputs": [
    {
     "data": {
      "image/png": "[encoded data removed]",
      "text/latex": [
       "$\\displaystyle e^{- \\frac{x^{2}}{2 t}} \\sinh{\\left(x \\right)} - \\frac{x e^{- \\frac{x^{2}}{2 t}} \\cosh{\\left(x \\right)}}{t}$"
      ],
      "text/plain": [
       "                     2         \n",
       "   2               -x          \n",
       " -x                ────        \n",
       " ────              2⋅t         \n",
       " 2⋅t            x⋅ℯ    ⋅cosh(x)\n",
       "ℯ    ⋅sinh(x) - ───────────────\n",
       "                       t       "
      ]
     },
     "metadata": {},
     "output_type": "display_data"
    }
   ],
   "source": [
    "display(sp.diff(sp.cosh(x)*sp.exp(-1/(2*t) * x**2),x))"
   ]
  },
  {
   "cell_type": "code",
   "execution_count": 46,
   "metadata": {},
   "outputs": [
    {
     "name": "stdout",
     "output_type": "stream",
     "text": [
      "check my work\n",
      "If correct, below should be 0\n"
     ]
    },
    {
     "data": {
      "image/png": "[encoded data removed]",
      "text/latex": [
       "$\\displaystyle 0$"
      ],
      "text/plain": [
       "0"
      ]
     },
     "metadata": {},
     "output_type": "display_data"
    }
   ],
   "source": [
    "print('check my work')\n",
    "my_dp_dx = 1 / sp.sqrt(2*sp.pi*t) * sp.exp(-t/2) * (\n",
    "-x/t * sp.cosh(x) * sp.exp(- x**2 / (2*t))\n",
    "+ sp.sinh(x) * sp.exp(-x**2 / (2*t))\n",
    ")\n",
    "print('If correct, below should be 0')\n",
    "diff = sp.simplify(my_dp_dx - dp_dx)\n",
    "display(diff)"
   ]
  },
  {
   "cell_type": "code",
   "execution_count": 49,
   "metadata": {},
   "outputs": [
    {
     "data": {
      "image/png": "[encoded data removed]",
      "text/latex": [
       "$\\displaystyle \\frac{\\left(- t x \\sinh{\\left(x \\right)} - t \\cosh{\\left(x \\right)} + x^{2} \\cosh{\\left(x \\right)}\\right) e^{- \\frac{x^{2}}{2 t}}}{t^{2}}$"
      ],
      "text/plain": [
       "                                           2 \n",
       "                                         -x  \n",
       "                                         ────\n",
       "⎛                            2        ⎞  2⋅t \n",
       "⎝-t⋅x⋅sinh(x) - t⋅cosh(x) + x ⋅cosh(x)⎠⋅ℯ    \n",
       "─────────────────────────────────────────────\n",
       "                       2                     \n",
       "                      t                      "
      ]
     },
     "metadata": {},
     "output_type": "display_data"
    },
    {
     "name": "stdout",
     "output_type": "stream",
     "text": [
      "\\frac{\\left(- t x \\sinh{\\left(x \\right)} - t \\cosh{\\left(x \\right)} + x^{2} \\cosh{\\left(x \\right)}\\right) e^{- \\frac{x^{2}}{2 t}}}{t^{2}}\n"
     ]
    }
   ],
   "source": [
    "sec_first_term = sp.factor(sp.diff(-1/t*x*sp.cosh(x)*sp.exp(-x**2/(2*t)), x))\n",
    "display(sec_first_term)\n",
    "print(sp.latex(sec_first_term))"
   ]
  },
  {
   "cell_type": "code",
   "execution_count": 53,
   "metadata": {},
   "outputs": [
    {
     "data": {
      "image/png": "[encoded data removed]",
      "text/latex": [
       "$\\displaystyle - \\frac{\\left(- t \\cosh{\\left(x \\right)} + x \\sinh{\\left(x \\right)}\\right) e^{- \\frac{x^{2}}{2 t}}}{t}$"
      ],
      "text/plain": [
       "                             2  \n",
       "                           -x   \n",
       "                           ──── \n",
       "                           2⋅t  \n",
       "-(-t⋅cosh(x) + x⋅sinh(x))⋅ℯ     \n",
       "────────────────────────────────\n",
       "               t                "
      ]
     },
     "metadata": {},
     "output_type": "display_data"
    },
    {
     "name": "stdout",
     "output_type": "stream",
     "text": [
      "- \\frac{\\left(- t \\cosh{\\left(x \\right)} + x \\sinh{\\left(x \\right)}\\right) e^{- \\frac{x^{2}}{2 t}}}{t}\n"
     ]
    }
   ],
   "source": [
    "sec_second_term = (\n",
    "    sp.factor(\n",
    "        sp.diff(sp.sinh(x) * sp.exp(-x**2/(2*t)), x)\n",
    "    )\n",
    ")\n",
    "display(sec_second_term)\n",
    "print(sp.latex(sec_second_term))"
   ]
  },
  {
   "cell_type": "code",
   "execution_count": 56,
   "metadata": {},
   "outputs": [
    {
     "name": "stdout",
     "output_type": "stream",
     "text": [
      "\n",
      "\n",
      "Right Hand Side\n",
      "d tanh(x) * p\n"
     ]
    },
    {
     "data": {
      "image/png": "[encoded data removed]",
      "text/latex": [
       "$\\displaystyle - \\frac{\\sqrt{2} \\left(- t \\sinh{\\left(x \\right)} \\tanh{\\left(x \\right)} + t \\cosh{\\left(x \\right)} \\tanh^{2}{\\left(x \\right)} - t \\cosh{\\left(x \\right)} + x \\cosh{\\left(x \\right)} \\tanh{\\left(x \\right)}\\right) e^{- 0.5 t} e^{- \\frac{x^{2}}{2 t}}}{2 \\sqrt{\\pi} t^{\\frac{3}{2}}}$"
      ],
      "text/plain": [
       "                                                                              \n",
       "                                                                              \n",
       "                                                                              \n",
       "    ⎛                                   2                                   ⎞ \n",
       "-√2⋅⎝-t⋅sinh(x)⋅tanh(x) + t⋅cosh(x)⋅tanh (x) - t⋅cosh(x) + x⋅cosh(x)⋅tanh(x)⎠⋅\n",
       "──────────────────────────────────────────────────────────────────────────────\n",
       "                                               3/2                            \n",
       "                                         2⋅√π⋅t                               \n",
       "\n",
       "           2  \n",
       "         -x   \n",
       "         ──── \n",
       " -0.5⋅t  2⋅t  \n",
       "ℯ      ⋅ℯ     \n",
       "──────────────\n",
       "              \n",
       "              "
      ]
     },
     "metadata": {},
     "output_type": "display_data"
    },
    {
     "name": "stdout",
     "output_type": "stream",
     "text": [
      "- \\frac{\\sqrt{2} \\left(- t \\sinh{\\left(x \\right)} \\tanh{\\left(x \\right)} + t \\cosh{\\left(x \\right)} \\tanh^{2}{\\left(x \\right)} - t \\cosh{\\left(x \\right)} + x \\cosh{\\left(x \\right)} \\tanh{\\left(x \\right)}\\right) e^{- 0.5 t} e^{- \\frac{x^{2}}{2 t}}}{2 \\sqrt{\\pi} t^{\\frac{3}{2}}}\n"
     ]
    }
   ],
   "source": [
    "print('\\n\\nRight Hand Side')\n",
    "print('d tanh(x) * p')\n",
    "rhs_first_term = sp.factor(sp.diff(sp.tanh(x) * p, x))\n",
    "display(rhs_first_term)\n",
    "print(sp.latex(rhs_first_term))\n",
    "# print('\\nd^2 p / dx^2')\n",
    "# print(sp.diff(p, x, 2))\n",
    "# print(sp.latex(sp.diff(p, x, 2)))\n"
   ]
  },
  {
   "cell_type": "code",
   "execution_count": 60,
   "metadata": {},
   "outputs": [
    {
     "data": {
      "image/png": "[encoded data removed]",
      "text/latex": [
       "$\\displaystyle \\frac{\\left(t \\cosh{\\left(x \\right)} - x \\sinh{\\left(x \\right)}\\right) e^{- 0.5 t - \\frac{x^{2}}{2 t}}}{t}$"
      ],
      "text/plain": [
       "                                    2\n",
       "                                   x \n",
       "                         -0.5⋅t - ───\n",
       "                                  2⋅t\n",
       "(t⋅cosh(x) - x⋅sinh(x))⋅ℯ            \n",
       "─────────────────────────────────────\n",
       "                  t                  "
      ]
     },
     "metadata": {},
     "output_type": "display_data"
    }
   ],
   "source": [
    "display(sp.simplify(rhs_first_term * sp.sqrt(2 * sp.pi * t) ))"
   ]
  },
  {
   "cell_type": "code",
   "execution_count": null,
   "metadata": {},
   "outputs": [],
   "source": []
  }
 ],
 "metadata": {
  "kernelspec": {
   "display_name": "Python 3",
   "language": "python",
   "name": "python3"
  },
  "language_info": {
   "codemirror_mode": {
    "name": "ipython",
    "version": 3
   },
   "file_extension": ".py",
   "mimetype": "text/x-python",
   "name": "python",
   "nbconvert_exporter": "python",
   "pygments_lexer": "ipython3",
   "version": "3.8.1"
  }
 },
 "nbformat": 4,
 "nbformat_minor": 4
}
