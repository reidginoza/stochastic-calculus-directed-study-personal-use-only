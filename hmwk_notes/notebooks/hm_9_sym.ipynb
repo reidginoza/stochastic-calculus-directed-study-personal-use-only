{
 "cells": [
  {
   "cell_type": "markdown",
   "metadata": {},
   "source": [
    "The SymPy simplification doesn't match up with what I've written, but the numerical optimization matches so I am abandoning this Notebook. Do not trust anything in here!"
   ]
  },
  {
   "cell_type": "code",
   "execution_count": 30,
   "metadata": {},
   "outputs": [],
   "source": [
    "import sympy as sp\n",
    "from sympy import pi, sqrt, exp, log, Sum, IndexedBase, simplify\n",
    "sp.init_printing(use_latex=True)"
   ]
  },
  {
   "cell_type": "code",
   "execution_count": 20,
   "metadata": {},
   "outputs": [],
   "source": [
    "t, sigma, theta, lam, T, k = sp.symbols('t sigma theta lam T k')\n",
    "x = IndexedBase('x')"
   ]
  },
  {
   "cell_type": "code",
   "execution_count": 27,
   "metadata": {},
   "outputs": [
    {
     "data": {
      "image/png": "[encoded data removed]",
      "text/latex": [
       "$\\displaystyle \\frac{\\sqrt{2} e^{- \\frac{0.5 \\left(- \\theta + x\\right)^{2}}{\\sigma^{2}}}}{2 \\sqrt{\\pi} \\sqrt{\\sigma^{2}}}$"
      ],
      "text/plain": [
       "                 2 \n",
       "    -0.5⋅(-θ + x)  \n",
       "    ───────────────\n",
       "            2      \n",
       "           σ       \n",
       "√2⋅ℯ               \n",
       "───────────────────\n",
       "            ____   \n",
       "           ╱  2    \n",
       "    2⋅√π⋅╲╱  σ     "
      ]
     },
     "metadata": {},
     "output_type": "display_data"
    },
    {
     "data": {
      "image/png": "[encoded data removed]",
      "text/latex": [
       "$\\displaystyle \\frac{\\sqrt{2} e^{- \\frac{0.5 \\left(- \\theta + x\\right)^{2}}{\\sigma^{2}}}}{2 \\sqrt{\\pi} \\sqrt{\\sigma^{2}}}$"
      ],
      "text/plain": [
       "                 2 \n",
       "    -0.5⋅(-θ + x)  \n",
       "    ───────────────\n",
       "            2      \n",
       "           σ       \n",
       "√2⋅ℯ               \n",
       "───────────────────\n",
       "            ____   \n",
       "           ╱  2    \n",
       "    2⋅√π⋅╲╱  σ     "
      ]
     },
     "metadata": {},
     "output_type": "display_data"
    }
   ],
   "source": [
    "def p(x):\n",
    "    return 1 / sqrt(2 * pi * sigma**2) * exp(- 0.5 * (x - theta)**2 / sigma**2)\n",
    "\n",
    "display(p(x))\n",
    "\n",
    "def llh(theta, x):\n",
    "    return 1 / sqrt(2 * pi * sigma**2) * exp(- 0.5 * (x - theta)**2 / sigma**2)\n",
    "\n",
    "display(llh(theta,x))"
   ]
  },
  {
   "cell_type": "code",
   "execution_count": 31,
   "metadata": {},
   "outputs": [
    {
     "data": {
      "image/png": "[encoded data removed]",
      "text/latex": [
       "$\\displaystyle \\frac{T \\left(\\log{\\left(2 \\right)} + \\log{\\left(\\pi \\right)}\\right)}{2} - \\sum_{k=0}^{T - 1} \\log{\\left(\\frac{e^{\\frac{- 0.5 \\theta^{2} + 1.0 \\theta {x}_{k} - 0.5 {x}_{k}^{2}}{\\sigma^{2}}}}{\\sqrt{\\sigma^{2}}} \\right)}$"
      ],
      "text/plain": [
       "                       T - 1                                         \n",
       "                      _______                                        \n",
       "                      ╲                                              \n",
       "                       ╲         ⎛        2                        2⎞\n",
       "                        ╲        ⎜ - 0.5⋅θ  + 1.0⋅θ⋅x[k] - 0.5⋅x[k] ⎟\n",
       "                         ╲       ⎜ ─────────────────────────────────⎟\n",
       "                          ╲      ⎜                  2               ⎟\n",
       "T⋅(log(2) + log(π))        ╲     ⎜                 σ                ⎟\n",
       "─────────────────── -      ╱     ⎜ℯ                                 ⎟\n",
       "         2                ╱   log⎜──────────────────────────────────⎟\n",
       "                         ╱       ⎜                ____              ⎟\n",
       "                        ╱        ⎜               ╱  2               ⎟\n",
       "                       ╱         ⎝             ╲╱  σ                ⎠\n",
       "                      ╱                                              \n",
       "                      ‾‾‾‾‾‾‾                                        \n",
       "                       k = 0                                         "
      ]
     },
     "metadata": {},
     "output_type": "display_data"
    }
   ],
   "source": [
    "def l(theta):\n",
    "    return simplify(- Sum(log(llh(theta, x[k])), (k, 0, T-1)))\n",
    "display(l(theta))"
   ]
  },
  {
   "cell_type": "code",
   "execution_count": 34,
   "metadata": {},
   "outputs": [
    {
     "data": {
      "image/png": "[encoded data removed]",
      "text/latex": [
       "$\\displaystyle - \\frac{T \\log{\\left(2 \\pi \\sigma^{2} \\right)}}{2} + \\frac{\\sum_{k=0}^{T - 1} \\left(- \\theta + {x}_{k}\\right)^{2}}{2 \\sigma^{2}}$"
      ],
      "text/plain": [
       "                  T - 1             \n",
       "                   ___              \n",
       "                   ╲                \n",
       "                    ╲              2\n",
       "                    ╱   (-θ + x[k]) \n",
       "                   ╱                \n",
       "       ⎛     2⎞    ‾‾‾              \n",
       "  T⋅log⎝2⋅π⋅σ ⎠   k = 0             \n",
       "- ───────────── + ──────────────────\n",
       "        2                   2       \n",
       "                         2⋅σ        "
      ]
     },
     "metadata": {},
     "output_type": "display_data"
    },
    {
     "data": {
      "image/png": "[encoded data removed]",
      "text/latex": [
       "$\\displaystyle \\frac{T \\log{\\left(\\sigma^{2} \\right)}}{2} + T \\log{\\left(2 \\right)} + T \\log{\\left(\\pi \\right)} + \\sum_{k=0}^{T - 1} \\left(- \\log{\\left(\\frac{e^{\\frac{- 0.5 \\theta^{2} + 1.0 \\theta {x}_{k} - 0.5 {x}_{k}^{2}}{\\sigma^{2}}}}{\\sqrt{\\sigma^{2}}} \\right)} + \\frac{\\theta {x}_{k}}{\\sigma^{2}} - \\frac{\\theta^{2} + {x}_{k}^{2}}{2 \\sigma^{2}}\\right)$"
      ],
      "text/plain": [
       "                                   T - 1                                      \n",
       "                                  _______                                     \n",
       "                                  ╲                                           \n",
       "                                   ╲      ⎛     ⎛        2                    \n",
       "                                    ╲     ⎜     ⎜ - 0.5⋅θ  + 1.0⋅θ⋅x[k] - 0.5⋅\n",
       "                                     ╲    ⎜     ⎜ ────────────────────────────\n",
       "     ⎛ 2⎞                             ╲   ⎜     ⎜                  2          \n",
       "T⋅log⎝σ ⎠                              ╲  ⎜     ⎜                 σ           \n",
       "───────── + T⋅log(2) + T⋅log(π) +      ╱  ⎜     ⎜ℯ                            \n",
       "    2                                 ╱   ⎜- log⎜─────────────────────────────\n",
       "                                     ╱    ⎜     ⎜                ____         \n",
       "                                    ╱     ⎜     ⎜               ╱  2          \n",
       "                                   ╱      ⎝     ⎝             ╲╱  σ           \n",
       "                                  ╱                                           \n",
       "                                  ‾‾‾‾‾‾‾                                     \n",
       "                                   k = 0                                      \n",
       "\n",
       "                             \n",
       "                             \n",
       "                             \n",
       "    2⎞                      ⎞\n",
       "x[k] ⎟                      ⎟\n",
       "─────⎟                      ⎟\n",
       "     ⎟                      ⎟\n",
       "     ⎟             2       2⎟\n",
       "     ⎟   θ⋅x[k]   θ  + x[k] ⎟\n",
       "─────⎟ + ────── - ──────────⎟\n",
       "     ⎟      2           2   ⎟\n",
       "     ⎟     σ         2⋅σ    ⎟\n",
       "     ⎠                      ⎠\n",
       "                             \n",
       "                             \n",
       "                             "
      ]
     },
     "metadata": {},
     "output_type": "display_data"
    }
   ],
   "source": [
    "my_neg_llh = -T/2 * log(2*pi*sigma**2) + 1 / (2*sigma**2) * Sum((x[k]-theta)**2, (k, 0, T-1))\n",
    "display(my_neg_llh)\n",
    "check_neg_llh = simplify(\n",
    "    l(theta) - my_neg_llh\n",
    ")\n",
    "display(check_neg_llh)"
   ]
  },
  {
   "cell_type": "code",
   "execution_count": null,
   "metadata": {},
   "outputs": [],
   "source": []
  }
 ],
 "metadata": {
  "kernelspec": {
   "display_name": "Python 3",
   "language": "python",
   "name": "python3"
  },
  "language_info": {
   "codemirror_mode": {
    "name": "ipython",
    "version": 3
   },
   "file_extension": ".py",
   "mimetype": "text/x-python",
   "name": "python",
   "nbconvert_exporter": "python",
   "pygments_lexer": "ipython3",
   "version": "3.8.1"
  }
 },
 "nbformat": 4,
 "nbformat_minor": 4
}
