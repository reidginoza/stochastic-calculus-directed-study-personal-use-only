{
 "cells": [
  {
   "cell_type": "code",
   "execution_count": 11,
   "metadata": {},
   "outputs": [],
   "source": [
    "import sympy as sp\n",
    "sp.init_printing(use_latex=True)"
   ]
  },
  {
   "cell_type": "code",
   "execution_count": 15,
   "metadata": {},
   "outputs": [],
   "source": [
    "m = sp.Function('m')\n",
    "P = sp.Function('P')"
   ]
  },
  {
   "cell_type": "code",
   "execution_count": 25,
   "metadata": {},
   "outputs": [],
   "source": [
    "mu, sigma = sp.symbols('mu sigma')\n",
    "t = sp.symbols('t')\n",
    "m_0, P_0 = sp.symbols('m_0 P_0')"
   ]
  },
  {
   "cell_type": "code",
   "execution_count": 31,
   "metadata": {},
   "outputs": [
    {
     "data": {
      "image/png": "[encoded data removed]",
      "text/latex": [
       "$\\displaystyle \\left[ m{\\left(t \\right)} = m_{0} e^{\\mu t}, \\  \\frac{d}{d t} P{\\left(t \\right)} = m_{0}^{2} \\sigma^{2} e^{2 \\mu t} + 2 \\mu P{\\left(t \\right)} + \\sigma^{2} P{\\left(t \\right)}\\right]$"
      ],
      "text/plain": [
       "⎡           μ⋅t  d            2  2  2⋅μ⋅t               2     ⎤\n",
       "⎢m(t) = m₀⋅ℯ   , ──(P(t)) = m₀ ⋅σ ⋅ℯ      + 2⋅μ⋅P(t) + σ ⋅P(t)⎥\n",
       "⎣                dt                                           ⎦"
      ]
     },
     "metadata": {},
     "output_type": "display_data"
    }
   ],
   "source": [
    "eqn1 = sp.Eq(m(t), m_0 * sp.exp(mu*t))\n",
    "eqn2 = sp.Eq(sp.Derivative(P(t), t),\n",
    "             2*mu*P(t) + sigma**2 * P(t) + sigma**2 * (m_0 * sp.exp(mu*t))**2)\n",
    "system = [eqn1, eqn2]\n",
    "display(system)"
   ]
  },
  {
   "cell_type": "code",
   "execution_count": 33,
   "metadata": {},
   "outputs": [
    {
     "data": {
      "text/latex": [
       "$\\displaystyle P{\\left(t \\right)} = \\begin{cases} \\left(C_{1} e^{\\sigma^{2} t} - m_{0}^{2}\\right) e^{2 \\mu t} & \\text{for}\\: \\sigma \\neq 0 \\\\\\left(C_{1} + m_{0}^{2} \\sigma^{2} t\\right) e^{t \\left(2 \\mu + \\sigma^{2}\\right)} & \\text{otherwise} \\end{cases}$"
      ],
      "text/plain": [
       "       ⎧   ⎛     2        ⎞                     \n",
       "       ⎪   ⎜    σ ⋅t     2⎟  2⋅μ⋅t              \n",
       "       ⎪   ⎝C₁⋅ℯ     - m₀ ⎠⋅ℯ          for σ ≠ 0\n",
       "P(t) = ⎨                                        \n",
       "       ⎪                   ⎛       2⎞           \n",
       "       ⎪⎛       2  2  ⎞  t⋅⎝2⋅μ + σ ⎠           \n",
       "       ⎩⎝C₁ + m₀ ⋅σ ⋅t⎠⋅ℯ              otherwise"
      ]
     },
     "execution_count": 33,
     "metadata": {},
     "output_type": "execute_result"
    }
   ],
   "source": [
    "sp.simplify(sp.dsolve(eqn2))"
   ]
  },
  {
   "cell_type": "code",
   "execution_count": null,
   "metadata": {},
   "outputs": [],
   "source": []
  }
 ],
 "metadata": {
  "kernelspec": {
   "display_name": "Python 3",
   "language": "python",
   "name": "python3"
  },
  "language_info": {
   "codemirror_mode": {
    "name": "ipython",
    "version": 3
   },
   "file_extension": ".py",
   "mimetype": "text/x-python",
   "name": "python",
   "nbconvert_exporter": "python",
   "pygments_lexer": "ipython3",
   "version": "3.8.1"
  }
 },
 "nbformat": 4,
 "nbformat_minor": 4
}
