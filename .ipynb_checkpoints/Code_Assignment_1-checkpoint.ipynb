{
 "cells": [
  {
   "cell_type": "markdown",
   "metadata": {},
   "source": [
    "# Assignment 1\n",
    "\n",
    "Simulating the following problem:\n",
    "Suppose Harriet has 7 dollars. Her plan is to make one dollar bets on fair coin tosses until her wealth reaches either 0 or 50, and then to go home. What is the expected amount of money that Harriet will have when she goes home? What is the probability that she will have 50 when she goes home?\n"
   ]
  },
  {
   "cell_type": "code",
   "execution_count": null,
   "metadata": {},
   "outputs": [],
   "source": [
    "import random\n",
    "\n",
    "from matplotlib import pyplot as plt\n",
    "import pandas as pd"
   ]
  },
  {
   "cell_type": "code",
   "execution_count": null,
   "metadata": {},
   "outputs": [],
   "source": [
    "def harriet_trial(start=7, stop_low=0, stop_high=50):\n",
    "    state = start\n",
    "    states = [state]\n",
    "    rounds = 0\n",
    "    while state != stop_low and state != stop_high:\n",
    "        rounds += 1\n",
    "        if random.random() > 0.5:  # if heads\n",
    "            state += 1\n",
    "        else:  # if tails\n",
    "            state -= 1\n",
    "        states.append(state)\n",
    "    return {'final_state': state, 'rounds': rounds, 'states': states}"
   ]
  },
  {
   "cell_type": "markdown",
   "metadata": {},
   "source": [
    "## Variables set for this run"
   ]
  },
  {
   "cell_type": "code",
   "execution_count": null,
   "metadata": {},
   "outputs": [],
   "source": [
    "CONSISTENT = True\n",
    "PLOTS = True\n",
    "N_TRIALS = 200"
   ]
  },
  {
   "cell_type": "markdown",
   "metadata": {},
   "source": [
    "## Code for this run"
   ]
  },
  {
   "cell_type": "code",
   "execution_count": null,
   "metadata": {},
   "outputs": [],
   "source": [
    "if CONSISTENT:\n",
    "    random.seed(0)  # keeps the psuedo-random number generator in the same sequence from run to run\n",
    "\n",
    "if PLOTS:\n",
    "    fig, ax = plt.figure()\n",
    "    \n",
    "results = []\n",
    "for _ in N_TRIALS:\n",
    "    results.append(harriet_trial(start=7, stop_low=0, stop_high=50))\n",
    "    ax.plot(results[-1]['states'])"
   ]
  }
 ],
 "metadata": {
  "kernelspec": {
   "display_name": "Python 3",
   "language": "python",
   "name": "python3"
  },
  "language_info": {
   "codemirror_mode": {
    "name": "ipython",
    "version": 3
   },
   "file_extension": ".py",
   "mimetype": "text/x-python",
   "name": "python",
   "nbconvert_exporter": "python",
   "pygments_lexer": "ipython3",
   "version": "3.7.6"
  }
 },
 "nbformat": 4,
 "nbformat_minor": 4
}
